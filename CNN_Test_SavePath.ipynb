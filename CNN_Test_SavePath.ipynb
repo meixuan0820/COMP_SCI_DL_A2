{
  "nbformat": 4,
  "nbformat_minor": 0,
  "metadata": {
    "colab": {
      "provenance": [],
      "machine_shape": "hm",
      "gpuType": "A100"
    },
    "kernelspec": {
      "name": "python3",
      "display_name": "Python 3"
    },
    "language_info": {
      "name": "python"
    },
    "accelerator": "GPU"
  },
  "cells": [
    {
      "cell_type": "code",
      "execution_count": 1,
      "metadata": {
        "colab": {
          "base_uri": "https://localhost:8080/"
        },
        "id": "0l1bgnRath-N",
        "outputId": "07d852a0-3d6d-432f-de58-b8d3b953dfcf"
      },
      "outputs": [
        {
          "output_type": "stream",
          "name": "stdout",
          "text": [
            "Drive already mounted at /content/drive; to attempt to forcibly remount, call drive.mount(\"/content/drive\", force_remount=True).\n"
          ]
        }
      ],
      "source": [
        "from google.colab import drive\n",
        "drive.mount('/content/drive')"
      ]
    },
    {
      "cell_type": "code",
      "source": [
        "import torch\n",
        "import numpy as np\n",
        "import random\n",
        "import torch.nn as nn\n",
        "import torchvision\n",
        "from torchvision import datasets, transforms, models\n",
        "from torch.utils.data import DataLoader\n",
        "import torch.optim as optim\n",
        "import matplotlib.pyplot as plt\n",
        "import gc\n",
        "import pandas as pd\n",
        "from sklearn.metrics import precision_score, recall_score, f1_score"
      ],
      "metadata": {
        "id": "8wIL5Zh5t5_C"
      },
      "execution_count": 2,
      "outputs": []
    },
    {
      "cell_type": "code",
      "source": [
        "def set_seed(seed=42):\n",
        "    random.seed(seed)\n",
        "    np.random.seed(seed)\n",
        "    torch.manual_seed(seed)\n",
        "    torch.cuda.manual_seed(seed)\n",
        "    torch.backends.cudnn.deterministic = True  # cuda\n",
        "    torch.backends.cudnn.benchmark = False  # ensure repeated result for restart session"
      ],
      "metadata": {
        "id": "rn5d4PKct9Om"
      },
      "execution_count": 3,
      "outputs": []
    },
    {
      "cell_type": "code",
      "source": [
        "class EarlyStopping:\n",
        "\n",
        "    def __init__(self, patience=10, verbose=False, delta=0, path='checkpoint.pt'):\n",
        "        self.patience = patience\n",
        "        self.verbose = verbose\n",
        "        self.counter = 0\n",
        "        self.best_loss = None\n",
        "        self.early_stop = False\n",
        "        self.delta = delta\n",
        "        self.path = path  # Save path for checkpoint\n",
        "\n",
        "    def __call__(self, val_loss, model):\n",
        "        if self.best_loss is None:\n",
        "            self.best_loss = val_loss\n",
        "            self.save_checkpoint(val_loss, model)\n",
        "        elif val_loss >= self.best_loss - self.delta:\n",
        "            self.counter += 1\n",
        "            if self.verbose:\n",
        "                print(f'EarlyStopping counter: {self.counter} out of {self.patience}')\n",
        "            if self.counter >= self.patience:\n",
        "                self.early_stop = True\n",
        "        else:\n",
        "            if self.verbose:\n",
        "                print(f'Validation loss decreased ({self.best_loss:.4f} --> {val_loss:.4f}). Saving model ...')\n",
        "            self.best_loss = val_loss\n",
        "            self.save_checkpoint(val_loss, model)\n",
        "            self.counter = 0\n",
        "\n",
        "    def save_checkpoint(self, val_loss, model):\n",
        "        \"\"\"Saves model when validation loss decreases.\"\"\"\n",
        "        torch.save(model.state_dict(), self.path)"
      ],
      "metadata": {
        "id": "AKoXmomFvet8"
      },
      "execution_count": 4,
      "outputs": []
    },
    {
      "cell_type": "code",
      "source": [
        "seed = 42\n",
        "set_seed(seed)"
      ],
      "metadata": {
        "id": "x39KBoFit-dw"
      },
      "execution_count": 5,
      "outputs": []
    },
    {
      "cell_type": "code",
      "source": [
        "transform = transforms.Compose([\n",
        "    transforms.Resize((224, 224)),\n",
        "    transforms.RandomRotation(15),\n",
        "    transforms.ColorJitter(brightness=0.1, contrast=0.1, saturation=0.1, hue=0.1),\n",
        "    transforms.ToTensor(),\n",
        "    transforms.Normalize(mean=[0.485, 0.456, 0.406], std=[0.229, 0.224, 0.225]), #as pre-train used\n",
        "])"
      ],
      "metadata": {
        "id": "4B-vO_Rxt_cC"
      },
      "execution_count": 6,
      "outputs": []
    },
    {
      "cell_type": "code",
      "source": [
        "data_dir = '/content/drive/MyDrive/image_class_task_dataset'\n",
        "train_dataset = datasets.ImageFolder(root=f'{data_dir}/train', transform=transform)\n",
        "valid_dataset = datasets.ImageFolder(root=f'{data_dir}/valid', transform=transform)\n",
        "test_dataset = datasets.ImageFolder(root=f'{data_dir}/test', transform=transform)"
      ],
      "metadata": {
        "id": "YwCshiIFuATM"
      },
      "execution_count": 7,
      "outputs": []
    },
    {
      "cell_type": "code",
      "source": [
        "def train_with_early_stopping(model, criterion, optimizer, train_loader, valid_loader, scheduler=None,\n",
        "                       num_epochs=50, grad_clip=None, device='cpu'):\n",
        "\n",
        "    history = {'train_loss': [], 'valid_loss': [], 'train_acc': [], 'valid_acc': []}\n",
        "\n",
        "    patience = 10\n",
        "    save_path = 'best_model.pt'\n",
        "    early_stopping = EarlyStopping(patience=patience, path=save_path)\n",
        "\n",
        "    for epoch in range(num_epochs):\n",
        "        model.train()\n",
        "        running_loss, correct_train, total_train = 0.0, 0, 0\n",
        "        for images, labels in train_loader:\n",
        "            images, labels = images.to(device), labels.to(device)\n",
        "            optimizer.zero_grad()\n",
        "            outputs = model(images)\n",
        "            loss = criterion(outputs, labels)\n",
        "            loss.backward()\n",
        "\n",
        "            if grad_clip:\n",
        "                torch.nn.utils.clip_grad_norm_(model.parameters(), grad_clip)\n",
        "            optimizer.step()\n",
        "\n",
        "            running_loss += loss.item() * images.size(0)\n",
        "            _, preds = torch.max(outputs, 1)\n",
        "            correct_train += (preds == labels).sum().item()\n",
        "            total_train += labels.size(0)\n",
        "\n",
        "        # average loss and acc per whole dataset\n",
        "        train_loss = running_loss / total_train\n",
        "        train_acc = 100 * correct_train / total_train\n",
        "        history['train_loss'].append(train_loss)\n",
        "        history['train_acc'].append(train_acc)\n",
        "\n",
        "        # validation step\n",
        "        model.eval()\n",
        "        valid_loss, correct_valid, total_valid = 0.0, 0, 0\n",
        "        with torch.no_grad():\n",
        "            for images, labels in valid_loader:\n",
        "                images, labels = images.to(device), labels.to(device)\n",
        "                outputs = model(images)\n",
        "                loss = criterion(outputs, labels)\n",
        "                valid_loss += loss.item() * images.size(0)\n",
        "                _, preds = torch.max(outputs, 1)\n",
        "                correct_valid += (preds == labels).sum().item()\n",
        "                total_valid += labels.size(0)\n",
        "\n",
        "        # as above\n",
        "        valid_loss /= total_valid\n",
        "        valid_acc = 100 * correct_valid / total_valid\n",
        "        history['valid_loss'].append(valid_loss)\n",
        "        history['valid_acc'].append(valid_acc)\n",
        "\n",
        "        # change lr if have\n",
        "        if scheduler:\n",
        "            if isinstance(scheduler, optim.lr_scheduler.ReduceLROnPlateau):\n",
        "                scheduler.step(valid_loss)  # Pass validation loss for ReduceLROnPlateau\n",
        "            else:\n",
        "                scheduler.step()  # Step for other scheduler types\n",
        "\n",
        "        print(f\"Epoch {epoch+1}/{num_epochs}, Train Loss: {train_loss:.4f}, Val Loss: {valid_loss:.4f}\")\n",
        "\n",
        "        early_stopping(valid_loss, model)\n",
        "        if early_stopping.early_stop:\n",
        "            print(\"Early stopping triggered\")\n",
        "            break\n",
        "\n",
        "    # Load the best model weights\n",
        "    model.load_state_dict(torch.load(save_path))\n",
        "    return model"
      ],
      "metadata": {
        "id": "NGHBN_tOuFaR"
      },
      "execution_count": 8,
      "outputs": []
    },
    {
      "cell_type": "markdown",
      "source": [
        "# ResNet"
      ],
      "metadata": {
        "id": "IooTCWJHzYPp"
      }
    },
    {
      "cell_type": "code",
      "source": [
        "batch_size = 32\n",
        "learning_rate = 1e-3\n",
        "model_type = 'resnet'\n",
        "optimizer_type = 'SGD'\n",
        "weight_decay = 5e-4\n",
        "schedulers = None\n",
        "grad_clip=None"
      ],
      "metadata": {
        "id": "Y5ZUvepizKKO"
      },
      "execution_count": 9,
      "outputs": []
    },
    {
      "cell_type": "code",
      "source": [
        "set_seed(seed=seed)"
      ],
      "metadata": {
        "id": "rCxP5qG1zw1Q"
      },
      "execution_count": 10,
      "outputs": []
    },
    {
      "cell_type": "code",
      "source": [
        "train_loader = DataLoader(train_dataset, batch_size=batch_size, shuffle=True)\n",
        "valid_loader = DataLoader(valid_dataset, batch_size=batch_size, shuffle=False)\n",
        "num_classes = len(train_loader.dataset.classes)"
      ],
      "metadata": {
        "id": "MNOhc81G-QeJ"
      },
      "execution_count": 11,
      "outputs": []
    },
    {
      "cell_type": "code",
      "source": [
        "device = torch.device('cuda' if torch.cuda.is_available() else 'cpu')"
      ],
      "metadata": {
        "id": "gW2xGwNrz0BO"
      },
      "execution_count": 12,
      "outputs": []
    },
    {
      "cell_type": "code",
      "source": [
        "experiment_results_resnet = []"
      ],
      "metadata": {
        "id": "yYkZcc4lz2AT"
      },
      "execution_count": 13,
      "outputs": []
    },
    {
      "cell_type": "code",
      "source": [
        "# Release RAM\n",
        "torch.cuda.empty_cache()\n",
        "gc.collect()\n",
        "\n",
        "# Set seed for reproducibility\n",
        "set_seed(42)\n",
        "\n",
        "# Initialize model\n",
        "model = models.resnet18(weights='IMAGENET1K_V1')\n",
        "num_ftrs = model.fc.in_features\n",
        "model.fc = nn.Linear(num_ftrs, num_classes)  # Adjust for the number of classes all for training\n",
        "model = model.to(device) # all layer in training\n",
        "\n",
        "# Define loss function\n",
        "criterion = nn.CrossEntropyLoss()\n",
        "optimizer = optim.SGD(model.parameters(), lr=learning_rate, momentum=0.9, weight_decay=weight_decay)\n",
        "scheduler = None\n",
        "\n",
        "# Print current configuration\n",
        "print(f\"\\nTraining {model_type} with Batch Size={batch_size}, LR={learning_rate}, \"\n",
        "      f\"Optimizer={optimizer_type}, Weight Decay={weight_decay}, Scheduler={scheduler}\\n\")\n",
        "\n",
        "# Train and validate\n",
        "history = train_with_early_stopping(\n",
        "    model=model,\n",
        "    criterion=criterion,\n",
        "    optimizer=optimizer,\n",
        "    train_loader=train_loader,\n",
        "    valid_loader=valid_loader,\n",
        "    scheduler=scheduler,\n",
        "    num_epochs=100,\n",
        "    grad_clip=grad_clip,\n",
        "    device=device\n",
        ")\n",
        "\n",
        "# Record results\n",
        "experiment_results_resnet.append({\n",
        "    'model_type': model_type,\n",
        "    'batch_size': batch_size,\n",
        "    'learning_rate': learning_rate,\n",
        "    'optimizer_type': optimizer_type,\n",
        "    'weight_decay': weight_decay,\n",
        "    'scheduler': scheduler,\n",
        "    'history': history\n",
        "})"
      ],
      "metadata": {
        "colab": {
          "base_uri": "https://localhost:8080/"
        },
        "id": "cMz-zjkiz5H2",
        "outputId": "07103537-0766-407d-e4d3-297febf0796c"
      },
      "execution_count": 14,
      "outputs": [
        {
          "output_type": "stream",
          "name": "stdout",
          "text": [
            "\n",
            "Training resnet with Batch Size=32, LR=0.001, Optimizer=SGD, Weight Decay=0.0005, Scheduler=None\n",
            "\n",
            "Epoch 1/100, Train Loss: 1.4738, Val Loss: 1.1899\n",
            "Epoch 2/100, Train Loss: 1.1315, Val Loss: 1.2030\n",
            "Epoch 3/100, Train Loss: 1.0342, Val Loss: 1.0407\n",
            "Epoch 4/100, Train Loss: 0.8574, Val Loss: 0.8150\n",
            "Epoch 5/100, Train Loss: 0.7204, Val Loss: 0.7001\n",
            "Epoch 6/100, Train Loss: 0.5849, Val Loss: 0.4905\n",
            "Epoch 7/100, Train Loss: 0.4730, Val Loss: 0.4748\n",
            "Epoch 8/100, Train Loss: 0.4330, Val Loss: 0.4128\n",
            "Epoch 9/100, Train Loss: 0.3785, Val Loss: 0.4248\n",
            "Epoch 10/100, Train Loss: 0.2952, Val Loss: 0.3741\n",
            "Epoch 11/100, Train Loss: 0.2736, Val Loss: 0.4190\n",
            "Epoch 12/100, Train Loss: 0.2370, Val Loss: 0.3556\n",
            "Epoch 13/100, Train Loss: 0.2126, Val Loss: 0.3020\n",
            "Epoch 14/100, Train Loss: 0.1953, Val Loss: 0.3042\n",
            "Epoch 15/100, Train Loss: 0.1882, Val Loss: 0.2769\n",
            "Epoch 16/100, Train Loss: 0.1547, Val Loss: 0.2607\n",
            "Epoch 17/100, Train Loss: 0.1451, Val Loss: 0.2302\n",
            "Epoch 18/100, Train Loss: 0.1140, Val Loss: 0.2757\n",
            "Epoch 19/100, Train Loss: 0.1012, Val Loss: 0.2807\n",
            "Epoch 20/100, Train Loss: 0.0932, Val Loss: 0.2952\n",
            "Epoch 21/100, Train Loss: 0.0803, Val Loss: 0.2358\n",
            "Epoch 22/100, Train Loss: 0.0725, Val Loss: 0.2644\n",
            "Epoch 23/100, Train Loss: 0.0849, Val Loss: 0.2168\n",
            "Epoch 24/100, Train Loss: 0.0653, Val Loss: 0.1626\n",
            "Epoch 25/100, Train Loss: 0.0595, Val Loss: 0.2013\n",
            "Epoch 26/100, Train Loss: 0.0702, Val Loss: 0.1631\n",
            "Epoch 27/100, Train Loss: 0.0828, Val Loss: 0.1711\n",
            "Epoch 28/100, Train Loss: 0.0549, Val Loss: 0.1923\n",
            "Epoch 29/100, Train Loss: 0.0641, Val Loss: 0.1717\n",
            "Epoch 30/100, Train Loss: 0.0647, Val Loss: 0.2056\n",
            "Epoch 31/100, Train Loss: 0.0607, Val Loss: 0.1375\n",
            "Epoch 32/100, Train Loss: 0.0396, Val Loss: 0.1307\n",
            "Epoch 33/100, Train Loss: 0.0350, Val Loss: 0.1113\n",
            "Epoch 34/100, Train Loss: 0.0372, Val Loss: 0.1564\n",
            "Epoch 35/100, Train Loss: 0.0464, Val Loss: 0.2159\n",
            "Epoch 36/100, Train Loss: 0.0448, Val Loss: 0.2012\n",
            "Epoch 37/100, Train Loss: 0.0260, Val Loss: 0.1683\n",
            "Epoch 38/100, Train Loss: 0.0373, Val Loss: 0.1518\n",
            "Epoch 39/100, Train Loss: 0.0333, Val Loss: 0.2085\n",
            "Epoch 40/100, Train Loss: 0.0258, Val Loss: 0.1575\n",
            "Epoch 41/100, Train Loss: 0.0196, Val Loss: 0.1357\n",
            "Epoch 42/100, Train Loss: 0.0179, Val Loss: 0.1843\n",
            "Epoch 43/100, Train Loss: 0.0394, Val Loss: 0.1657\n",
            "Early stopping triggered\n"
          ]
        },
        {
          "output_type": "stream",
          "name": "stderr",
          "text": [
            "<ipython-input-8-d9ca2c9fc0b1>:69: FutureWarning: You are using `torch.load` with `weights_only=False` (the current default value), which uses the default pickle module implicitly. It is possible to construct malicious pickle data which will execute arbitrary code during unpickling (See https://github.com/pytorch/pytorch/blob/main/SECURITY.md#untrusted-models for more details). In a future release, the default value for `weights_only` will be flipped to `True`. This limits the functions that could be executed during unpickling. Arbitrary objects will no longer be allowed to be loaded via this mode unless they are explicitly allowlisted by the user via `torch.serialization.add_safe_globals`. We recommend you start setting `weights_only=True` for any use case where you don't have full control of the loaded file. Please open an issue on GitHub for any issues related to this experimental feature.\n",
            "  model.load_state_dict(torch.load(save_path))\n"
          ]
        }
      ]
    },
    {
      "cell_type": "code",
      "source": [
        "def load_and_test_model(model, test_loader, device, path='best_model.pt'):\n",
        "    set_seed(42)\n",
        "\n",
        "    model.load_state_dict(torch.load(path))\n",
        "    model.to(device)\n",
        "    model.eval()\n",
        "\n",
        "    test_loss = 0.0\n",
        "    correct = 0\n",
        "    total = 0\n",
        "    all_labels = []\n",
        "    all_predictions = []\n",
        "\n",
        "    with torch.no_grad():\n",
        "        for images, labels in test_loader:\n",
        "            images, labels = images.to(device), labels.to(device)\n",
        "            outputs = model(images)\n",
        "\n",
        "            loss = criterion(outputs, labels)\n",
        "            test_loss += loss.item() * images.size(0)\n",
        "\n",
        "            _, predicted = torch.max(outputs, 1)\n",
        "            correct += (predicted == labels).sum().item()\n",
        "            total += labels.size(0)\n",
        "\n",
        "            all_labels.extend(labels.cpu().numpy())\n",
        "            all_predictions.extend(predicted.cpu().numpy())\n",
        "\n",
        "    test_loss /= total\n",
        "    accuracy = correct / total\n",
        "\n",
        "    precision = precision_score(all_labels, all_predictions, average='weighted')\n",
        "    recall = recall_score(all_labels, all_predictions, average='weighted')\n",
        "    f1 = f1_score(all_labels, all_predictions, average='weighted')\n",
        "\n",
        "    print(f\"Test Loss: {test_loss:.4f}, Test Accuracy: {accuracy:.3f}\")\n",
        "    print(f\"Precision: {precision:.3f}, Recall: {recall:.3f}, F1 Score: {f1:.3f}\")\n",
        "\n",
        "    return test_loss, accuracy, precision, recall, f1"
      ],
      "metadata": {
        "id": "YVOohyqT1vqs"
      },
      "execution_count": 15,
      "outputs": []
    },
    {
      "cell_type": "code",
      "source": [
        "test_loader = DataLoader(test_dataset, batch_size=batch_size, shuffle=False)\n",
        "test_loss, test_accuracy, precision, recall, f1 = load_and_test_model(model, test_loader, device, path='best_model.pt')\n",
        "experiment_results_resnet[-1].update({\n",
        "    'test_loss': test_loss,\n",
        "    'test_accuracy': test_accuracy,\n",
        "    'precision': precision,\n",
        "    'recall': recall,\n",
        "    'f1_score': f1\n",
        "})"
      ],
      "metadata": {
        "colab": {
          "base_uri": "https://localhost:8080/"
        },
        "id": "DTo1aUJ9Zi2t",
        "outputId": "11cf1a30-822f-4a20-96ac-3e566e7767d7"
      },
      "execution_count": 16,
      "outputs": [
        {
          "output_type": "stream",
          "name": "stderr",
          "text": [
            "<ipython-input-15-702b5db4fba3>:4: FutureWarning: You are using `torch.load` with `weights_only=False` (the current default value), which uses the default pickle module implicitly. It is possible to construct malicious pickle data which will execute arbitrary code during unpickling (See https://github.com/pytorch/pytorch/blob/main/SECURITY.md#untrusted-models for more details). In a future release, the default value for `weights_only` will be flipped to `True`. This limits the functions that could be executed during unpickling. Arbitrary objects will no longer be allowed to be loaded via this mode unless they are explicitly allowlisted by the user via `torch.serialization.add_safe_globals`. We recommend you start setting `weights_only=True` for any use case where you don't have full control of the loaded file. Please open an issue on GitHub for any issues related to this experimental feature.\n",
            "  model.load_state_dict(torch.load(path))\n"
          ]
        },
        {
          "output_type": "stream",
          "name": "stdout",
          "text": [
            "Test Loss: 0.4700, Test Accuracy: 0.900\n",
            "Precision: 0.922, Recall: 0.900, F1 Score: 0.896\n"
          ]
        }
      ]
    },
    {
      "cell_type": "code",
      "source": [
        "df_results = pd.DataFrame(experiment_results_resnet)\n",
        "df_results.to_csv(\"experiment_results_resnet.csv\", index=False)"
      ],
      "metadata": {
        "id": "liRBDZXwBoV5"
      },
      "execution_count": 17,
      "outputs": []
    },
    {
      "cell_type": "markdown",
      "source": [
        "# AlexNet"
      ],
      "metadata": {
        "id": "WuuZ8m8KB_nW"
      }
    },
    {
      "cell_type": "code",
      "source": [
        "batch_size = 32\n",
        "learning_rate = 1e-3\n",
        "model_type = 'alexnet'\n",
        "optimizer_type = 'Adam'\n",
        "weight_decay = 0.0\n",
        "schedulers = 'ReduceLROnPlateau'\n",
        "grad_clip=None\n",
        "droput_rate= 0.3"
      ],
      "metadata": {
        "id": "tvoSqPdECB0V"
      },
      "execution_count": 18,
      "outputs": []
    },
    {
      "cell_type": "code",
      "source": [
        "set_seed(seed=seed)"
      ],
      "metadata": {
        "id": "J9wq_8f6CB0V"
      },
      "execution_count": 19,
      "outputs": []
    },
    {
      "cell_type": "code",
      "source": [
        "train_loader = DataLoader(train_dataset, batch_size=batch_size, shuffle=True)\n",
        "valid_loader = DataLoader(valid_dataset, batch_size=batch_size, shuffle=False)\n",
        "num_classes = len(train_loader.dataset.classes)"
      ],
      "metadata": {
        "id": "BPl2N0tECB0V"
      },
      "execution_count": 20,
      "outputs": []
    },
    {
      "cell_type": "code",
      "source": [
        "device = torch.device('cuda' if torch.cuda.is_available() else 'cpu')"
      ],
      "metadata": {
        "id": "fqT3keIPCB0V"
      },
      "execution_count": 21,
      "outputs": []
    },
    {
      "cell_type": "code",
      "source": [
        "experiment_results_alexnet = []"
      ],
      "metadata": {
        "id": "kwO7FdDYCB0V"
      },
      "execution_count": 22,
      "outputs": []
    },
    {
      "cell_type": "code",
      "source": [
        "torch.cuda.empty_cache()\n",
        "gc.collect()\n",
        "\n",
        "set_seed(42)\n",
        "\n",
        "model = models.alexnet(weights='IMAGENET1K_V1')\n",
        "num_ftrs = model.classifier[6].in_features\n",
        "\n",
        "model.classifier[0] = nn.Dropout(0.3)\n",
        "model.classifier[3] = nn.Dropout(0.3)\n",
        "\n",
        "model.classifier[6] = nn.Linear(num_ftrs, num_classes)\n",
        "\n",
        "for param in model.parameters():\n",
        "    param.requires_grad = False\n",
        "for param in model.classifier[6].parameters():\n",
        "    param.requires_grad = True\n",
        "\n",
        "model = model.to(device)\n",
        "\n",
        "criterion = nn.CrossEntropyLoss()\n",
        "\n",
        "optimizer = optim.Adam(model.parameters(), lr=learning_rate)\n",
        "\n",
        "scheduler = optim.lr_scheduler.ReduceLROnPlateau(optimizer, mode='min', patience=3)\n",
        "\n",
        "# Print current configuration\n",
        "print(f\"\\nTraining {model_type} with Batch Size={batch_size}, LR={learning_rate}, \"\n",
        "      f\"Optimizer={optimizer_type}, Scheduler={schedulers}\\n\")\n",
        "\n",
        "# Train and validate\n",
        "history = train_with_early_stopping(\n",
        "    model=model,\n",
        "    criterion=criterion,\n",
        "    optimizer=optimizer,\n",
        "    train_loader=train_loader,\n",
        "    valid_loader=valid_loader,\n",
        "    scheduler=scheduler,\n",
        "    num_epochs=50,\n",
        "    grad_clip=1.0,\n",
        "    device=device\n",
        ")\n",
        "\n",
        "# Record results\n",
        "experiment_results_alexnet.append({\n",
        "    'model_type': model_type,\n",
        "    'batch_size': batch_size,\n",
        "    'learning_rate': learning_rate,\n",
        "    'optimizer_type': optimizer_type,\n",
        "    'scheduler': schedulers,\n",
        "    'dropout': 0.3,\n",
        "    'grad_clip': 1.0,\n",
        "    'history': history\n",
        "})"
      ],
      "metadata": {
        "colab": {
          "base_uri": "https://localhost:8080/"
        },
        "outputId": "1ae4f7de-dcc4-44f2-cff2-f114b820cd43",
        "id": "9FVu0ytWCB0V"
      },
      "execution_count": 23,
      "outputs": [
        {
          "output_type": "stream",
          "name": "stdout",
          "text": [
            "\n",
            "Training alexnet with Batch Size=32, LR=0.001, Optimizer=Adam, Scheduler=ReduceLROnPlateau\n",
            "\n",
            "Epoch 1/50, Train Loss: 1.1793, Val Loss: 0.8837\n",
            "Epoch 2/50, Train Loss: 0.7709, Val Loss: 0.5618\n",
            "Epoch 3/50, Train Loss: 0.6058, Val Loss: 0.4812\n",
            "Epoch 4/50, Train Loss: 0.3726, Val Loss: 0.3877\n",
            "Epoch 5/50, Train Loss: 0.4187, Val Loss: 0.4480\n",
            "Epoch 6/50, Train Loss: 0.3664, Val Loss: 0.3366\n",
            "Epoch 7/50, Train Loss: 0.2861, Val Loss: 0.2796\n",
            "Epoch 8/50, Train Loss: 0.2422, Val Loss: 0.3293\n",
            "Epoch 9/50, Train Loss: 0.2073, Val Loss: 0.2940\n",
            "Epoch 10/50, Train Loss: 0.2572, Val Loss: 0.2956\n",
            "Epoch 11/50, Train Loss: 0.1885, Val Loss: 0.2462\n",
            "Epoch 12/50, Train Loss: 0.2132, Val Loss: 0.3002\n",
            "Epoch 13/50, Train Loss: 0.1468, Val Loss: 0.2690\n",
            "Epoch 14/50, Train Loss: 0.1493, Val Loss: 0.2434\n",
            "Epoch 15/50, Train Loss: 0.1512, Val Loss: 0.2185\n",
            "Epoch 16/50, Train Loss: 0.1041, Val Loss: 0.2555\n",
            "Epoch 17/50, Train Loss: 0.1196, Val Loss: 0.1917\n",
            "Epoch 18/50, Train Loss: 0.1013, Val Loss: 0.2514\n",
            "Epoch 19/50, Train Loss: 0.1189, Val Loss: 0.2405\n",
            "Epoch 20/50, Train Loss: 0.0880, Val Loss: 0.3120\n",
            "Epoch 21/50, Train Loss: 0.0816, Val Loss: 0.2132\n",
            "Epoch 22/50, Train Loss: 0.0937, Val Loss: 0.2864\n",
            "Epoch 23/50, Train Loss: 0.0938, Val Loss: 0.2280\n",
            "Epoch 24/50, Train Loss: 0.0927, Val Loss: 0.2344\n",
            "Epoch 25/50, Train Loss: 0.0880, Val Loss: 0.1385\n",
            "Epoch 26/50, Train Loss: 0.1169, Val Loss: 0.2800\n",
            "Epoch 27/50, Train Loss: 0.1035, Val Loss: 0.2976\n",
            "Epoch 28/50, Train Loss: 0.0995, Val Loss: 0.2580\n",
            "Epoch 29/50, Train Loss: 0.1282, Val Loss: 0.1608\n",
            "Epoch 30/50, Train Loss: 0.0877, Val Loss: 0.3254\n",
            "Epoch 31/50, Train Loss: 0.0813, Val Loss: 0.1866\n",
            "Epoch 32/50, Train Loss: 0.0583, Val Loss: 0.3272\n",
            "Epoch 33/50, Train Loss: 0.0701, Val Loss: 0.3085\n",
            "Epoch 34/50, Train Loss: 0.0838, Val Loss: 0.2482\n",
            "Epoch 35/50, Train Loss: 0.0689, Val Loss: 0.2388\n",
            "Early stopping triggered\n"
          ]
        },
        {
          "output_type": "stream",
          "name": "stderr",
          "text": [
            "<ipython-input-8-d9ca2c9fc0b1>:69: FutureWarning: You are using `torch.load` with `weights_only=False` (the current default value), which uses the default pickle module implicitly. It is possible to construct malicious pickle data which will execute arbitrary code during unpickling (See https://github.com/pytorch/pytorch/blob/main/SECURITY.md#untrusted-models for more details). In a future release, the default value for `weights_only` will be flipped to `True`. This limits the functions that could be executed during unpickling. Arbitrary objects will no longer be allowed to be loaded via this mode unless they are explicitly allowlisted by the user via `torch.serialization.add_safe_globals`. We recommend you start setting `weights_only=True` for any use case where you don't have full control of the loaded file. Please open an issue on GitHub for any issues related to this experimental feature.\n",
            "  model.load_state_dict(torch.load(save_path))\n"
          ]
        }
      ]
    },
    {
      "cell_type": "code",
      "source": [
        "test_loader = DataLoader(test_dataset, batch_size=batch_size, shuffle=False)\n",
        "test_loss, test_accuracy, precision, recall, f1 = load_and_test_model(model, test_loader, device, path='best_model.pt')\n",
        "experiment_results_alexnet[-1].update({\n",
        "    'test_loss': test_loss,\n",
        "    'test_accuracy': test_accuracy,\n",
        "    'precision': precision,\n",
        "    'recall': recall,\n",
        "    'f1_score': f1\n",
        "})"
      ],
      "metadata": {
        "colab": {
          "base_uri": "https://localhost:8080/"
        },
        "outputId": "a8b6275d-75c0-4c19-b294-4f5d94dd38b6",
        "id": "mffS1E3MCB0W"
      },
      "execution_count": 24,
      "outputs": [
        {
          "output_type": "stream",
          "name": "stderr",
          "text": [
            "<ipython-input-15-702b5db4fba3>:4: FutureWarning: You are using `torch.load` with `weights_only=False` (the current default value), which uses the default pickle module implicitly. It is possible to construct malicious pickle data which will execute arbitrary code during unpickling (See https://github.com/pytorch/pytorch/blob/main/SECURITY.md#untrusted-models for more details). In a future release, the default value for `weights_only` will be flipped to `True`. This limits the functions that could be executed during unpickling. Arbitrary objects will no longer be allowed to be loaded via this mode unless they are explicitly allowlisted by the user via `torch.serialization.add_safe_globals`. We recommend you start setting `weights_only=True` for any use case where you don't have full control of the loaded file. Please open an issue on GitHub for any issues related to this experimental feature.\n",
            "  model.load_state_dict(torch.load(path))\n"
          ]
        },
        {
          "output_type": "stream",
          "name": "stdout",
          "text": [
            "Test Loss: 0.1820, Test Accuracy: 0.900\n",
            "Precision: 0.922, Recall: 0.900, F1 Score: 0.896\n"
          ]
        }
      ]
    },
    {
      "cell_type": "code",
      "source": [
        "df_results = pd.DataFrame(experiment_results_alexnet)\n",
        "df_results.to_csv(\"experiment_results_alexnet.csv\", index=False)"
      ],
      "metadata": {
        "id": "FFrwdynZaNio"
      },
      "execution_count": 25,
      "outputs": []
    },
    {
      "cell_type": "markdown",
      "source": [
        "# MobileNet"
      ],
      "metadata": {
        "id": "sgmeKhEZFSpn"
      }
    },
    {
      "cell_type": "code",
      "source": [
        "batch_size = 32\n",
        "learning_rate = 1e-3\n",
        "model_type = 'mobilenet'\n",
        "optimizer_type = 'SGD'\n",
        "weight_decay = 1e-4\n",
        "schedulers = 'ReduceLROnPlateau'"
      ],
      "metadata": {
        "id": "K7bPAk9nFQWZ"
      },
      "execution_count": 26,
      "outputs": []
    },
    {
      "cell_type": "code",
      "source": [
        "set_seed(seed=seed)"
      ],
      "metadata": {
        "id": "sAPkLOMdFQWZ"
      },
      "execution_count": 27,
      "outputs": []
    },
    {
      "cell_type": "code",
      "source": [
        "train_loader = DataLoader(train_dataset, batch_size=batch_size, shuffle=True)\n",
        "valid_loader = DataLoader(valid_dataset, batch_size=batch_size, shuffle=False)\n",
        "num_classes = len(train_loader.dataset.classes)"
      ],
      "metadata": {
        "id": "-AtvDFYCFQWZ"
      },
      "execution_count": 28,
      "outputs": []
    },
    {
      "cell_type": "code",
      "source": [
        "device = torch.device('cuda' if torch.cuda.is_available() else 'cpu')"
      ],
      "metadata": {
        "id": "SOIwBpsrFQWZ"
      },
      "execution_count": 29,
      "outputs": []
    },
    {
      "cell_type": "code",
      "source": [
        "experiment_results_mobilenet = []"
      ],
      "metadata": {
        "id": "yItoQk7TFQWZ"
      },
      "execution_count": 30,
      "outputs": []
    },
    {
      "cell_type": "code",
      "source": [
        "set_seed(42)\n",
        "\n",
        "# Release RAM\n",
        "torch.cuda.empty_cache()\n",
        "gc.collect()\n",
        "\n",
        "# Initialize MobileNet model\n",
        "model = models.mobilenet_v2(pretrained=True)\n",
        "num_ftrs = model.classifier[1].in_features\n",
        "\n",
        "# Modify the final layer to match the number of classes\n",
        "model.classifier[1] = nn.Linear(num_ftrs, num_classes)\n",
        "\n",
        "for param in model.parameters():\n",
        "    param.requires_grad = True\n",
        "\n",
        "# Move the model to the specified device\n",
        "model = model.to(device)\n",
        "\n",
        "# Define loss function\n",
        "criterion = nn.CrossEntropyLoss()\n",
        "optimizer = optim.SGD(model.parameters(), lr=learning_rate, momentum=0.9, weight_decay=1e-4)\n",
        "scheduler = optim.lr_scheduler.ReduceLROnPlateau(optimizer, mode='min', patience=3)\n",
        "\n",
        "# Print current configuration\n",
        "freeze_status = \"All Layers Unfrozen\"\n",
        "print(f\"\\nTraining {model_type} with Batch Size={batch_size}, LR={learning_rate}, \"\n",
        "      f\"Optimizer={optimizer_type}, Scheduler={schedulers}, Freeze Status: {freeze_status}\\n\")\n",
        "\n",
        "# Train and validate\n",
        "history = train_with_early_stopping(\n",
        "    model=model,\n",
        "    criterion=criterion,\n",
        "    optimizer=optimizer,\n",
        "    train_loader=train_loader,\n",
        "    valid_loader=valid_loader,\n",
        "    scheduler=scheduler,\n",
        "    num_epochs=50,\n",
        "    grad_clip=None,\n",
        "    device=device\n",
        ")\n",
        "\n",
        "# Record results\n",
        "experiment_results_mobilenet.append({\n",
        "    'model_type': model_type,\n",
        "    'batch_size': batch_size,\n",
        "    'learning_rate': learning_rate,\n",
        "    'optimizer_type': optimizer_type,\n",
        "    'scheduler': schedulers,\n",
        "    'freeze_status': freeze_status,  # Record the freeze configuration\n",
        "    'history': history\n",
        "})"
      ],
      "metadata": {
        "colab": {
          "base_uri": "https://localhost:8080/"
        },
        "outputId": "5eb8a7ea-c7c6-47fb-b3d3-169d3f2cefc1",
        "id": "jsAS_Jp7FQWZ"
      },
      "execution_count": 31,
      "outputs": [
        {
          "output_type": "stream",
          "name": "stderr",
          "text": [
            "/usr/local/lib/python3.10/dist-packages/torchvision/models/_utils.py:208: UserWarning: The parameter 'pretrained' is deprecated since 0.13 and may be removed in the future, please use 'weights' instead.\n",
            "  warnings.warn(\n",
            "/usr/local/lib/python3.10/dist-packages/torchvision/models/_utils.py:223: UserWarning: Arguments other than a weight enum or `None` for 'weights' are deprecated since 0.13 and may be removed in the future. The current behavior is equivalent to passing `weights=MobileNet_V2_Weights.IMAGENET1K_V1`. You can also use `weights=MobileNet_V2_Weights.DEFAULT` to get the most up-to-date weights.\n",
            "  warnings.warn(msg)\n"
          ]
        },
        {
          "output_type": "stream",
          "name": "stdout",
          "text": [
            "\n",
            "Training mobilenet with Batch Size=32, LR=0.001, Optimizer=SGD, Scheduler=ReduceLROnPlateau, Freeze Status: All Layers Unfrozen\n",
            "\n",
            "Epoch 1/50, Train Loss: 1.4645, Val Loss: 1.1821\n",
            "Epoch 2/50, Train Loss: 1.1574, Val Loss: 1.0750\n",
            "Epoch 3/50, Train Loss: 1.0945, Val Loss: 1.0176\n",
            "Epoch 4/50, Train Loss: 0.8454, Val Loss: 0.8383\n",
            "Epoch 5/50, Train Loss: 0.7599, Val Loss: 0.6856\n",
            "Epoch 6/50, Train Loss: 0.6025, Val Loss: 0.5574\n",
            "Epoch 7/50, Train Loss: 0.4966, Val Loss: 0.4949\n",
            "Epoch 8/50, Train Loss: 0.4214, Val Loss: 0.4183\n",
            "Epoch 9/50, Train Loss: 0.3416, Val Loss: 0.4017\n",
            "Epoch 10/50, Train Loss: 0.3166, Val Loss: 0.4123\n",
            "Epoch 11/50, Train Loss: 0.3042, Val Loss: 0.3483\n",
            "Epoch 12/50, Train Loss: 0.2375, Val Loss: 0.2831\n",
            "Epoch 13/50, Train Loss: 0.1804, Val Loss: 0.3007\n",
            "Epoch 14/50, Train Loss: 0.1679, Val Loss: 0.2428\n",
            "Epoch 15/50, Train Loss: 0.1706, Val Loss: 0.2721\n",
            "Epoch 16/50, Train Loss: 0.1597, Val Loss: 0.1763\n",
            "Epoch 17/50, Train Loss: 0.1008, Val Loss: 0.2277\n",
            "Epoch 18/50, Train Loss: 0.1011, Val Loss: 0.2455\n",
            "Epoch 19/50, Train Loss: 0.0902, Val Loss: 0.2111\n",
            "Epoch 20/50, Train Loss: 0.0848, Val Loss: 0.1578\n",
            "Epoch 21/50, Train Loss: 0.0925, Val Loss: 0.2029\n",
            "Epoch 22/50, Train Loss: 0.0668, Val Loss: 0.1836\n",
            "Epoch 23/50, Train Loss: 0.0431, Val Loss: 0.1745\n",
            "Epoch 24/50, Train Loss: 0.1047, Val Loss: 0.2179\n",
            "Epoch 25/50, Train Loss: 0.0502, Val Loss: 0.1407\n",
            "Epoch 26/50, Train Loss: 0.0926, Val Loss: 0.1599\n",
            "Epoch 27/50, Train Loss: 0.0503, Val Loss: 0.1268\n",
            "Epoch 28/50, Train Loss: 0.0562, Val Loss: 0.2104\n",
            "Epoch 29/50, Train Loss: 0.0532, Val Loss: 0.1272\n",
            "Epoch 30/50, Train Loss: 0.0512, Val Loss: 0.1184\n",
            "Epoch 31/50, Train Loss: 0.0547, Val Loss: 0.1685\n",
            "Epoch 32/50, Train Loss: 0.0484, Val Loss: 0.1899\n",
            "Epoch 33/50, Train Loss: 0.0481, Val Loss: 0.1066\n",
            "Epoch 34/50, Train Loss: 0.0515, Val Loss: 0.1378\n",
            "Epoch 35/50, Train Loss: 0.0364, Val Loss: 0.1463\n",
            "Epoch 36/50, Train Loss: 0.0431, Val Loss: 0.1715\n",
            "Epoch 37/50, Train Loss: 0.0295, Val Loss: 0.1365\n",
            "Epoch 38/50, Train Loss: 0.0310, Val Loss: 0.2177\n",
            "Epoch 39/50, Train Loss: 0.0537, Val Loss: 0.1876\n",
            "Epoch 40/50, Train Loss: 0.0537, Val Loss: 0.1489\n",
            "Epoch 41/50, Train Loss: 0.0503, Val Loss: 0.1662\n",
            "Epoch 42/50, Train Loss: 0.0788, Val Loss: 0.1495\n",
            "Epoch 43/50, Train Loss: 0.0504, Val Loss: 0.1679\n",
            "Early stopping triggered\n"
          ]
        },
        {
          "output_type": "stream",
          "name": "stderr",
          "text": [
            "<ipython-input-8-d9ca2c9fc0b1>:69: FutureWarning: You are using `torch.load` with `weights_only=False` (the current default value), which uses the default pickle module implicitly. It is possible to construct malicious pickle data which will execute arbitrary code during unpickling (See https://github.com/pytorch/pytorch/blob/main/SECURITY.md#untrusted-models for more details). In a future release, the default value for `weights_only` will be flipped to `True`. This limits the functions that could be executed during unpickling. Arbitrary objects will no longer be allowed to be loaded via this mode unless they are explicitly allowlisted by the user via `torch.serialization.add_safe_globals`. We recommend you start setting `weights_only=True` for any use case where you don't have full control of the loaded file. Please open an issue on GitHub for any issues related to this experimental feature.\n",
            "  model.load_state_dict(torch.load(save_path))\n"
          ]
        }
      ]
    },
    {
      "cell_type": "code",
      "source": [
        "test_loader = DataLoader(test_dataset, batch_size=batch_size, shuffle=False)\n",
        "test_loss, test_accuracy, precision, recall, f1 = load_and_test_model(model, test_loader, device, path='best_model.pt')\n",
        "experiment_results_mobilenet[-1].update({\n",
        "    'test_loss': test_loss,\n",
        "    'test_accuracy': test_accuracy,\n",
        "    'precision': precision,\n",
        "    'recall': recall,\n",
        "    'f1_score': f1\n",
        "})"
      ],
      "metadata": {
        "colab": {
          "base_uri": "https://localhost:8080/"
        },
        "id": "sZVLGADEaDzR",
        "outputId": "d8d4e15b-3bc3-40e6-89e3-e6fe2bfa0ac3"
      },
      "execution_count": 32,
      "outputs": [
        {
          "output_type": "stream",
          "name": "stderr",
          "text": [
            "<ipython-input-15-702b5db4fba3>:4: FutureWarning: You are using `torch.load` with `weights_only=False` (the current default value), which uses the default pickle module implicitly. It is possible to construct malicious pickle data which will execute arbitrary code during unpickling (See https://github.com/pytorch/pytorch/blob/main/SECURITY.md#untrusted-models for more details). In a future release, the default value for `weights_only` will be flipped to `True`. This limits the functions that could be executed during unpickling. Arbitrary objects will no longer be allowed to be loaded via this mode unless they are explicitly allowlisted by the user via `torch.serialization.add_safe_globals`. We recommend you start setting `weights_only=True` for any use case where you don't have full control of the loaded file. Please open an issue on GitHub for any issues related to this experimental feature.\n",
            "  model.load_state_dict(torch.load(path))\n"
          ]
        },
        {
          "output_type": "stream",
          "name": "stdout",
          "text": [
            "Test Loss: 0.3204, Test Accuracy: 0.850\n",
            "Precision: 0.895, Recall: 0.850, F1 Score: 0.847\n"
          ]
        }
      ]
    },
    {
      "cell_type": "code",
      "source": [
        "df_results = pd.DataFrame(experiment_results_mobilenet)\n",
        "df_results.to_csv(\"experiment_results_mobilenet.csv\", index=False)"
      ],
      "metadata": {
        "id": "1NUEhJldFQWZ"
      },
      "execution_count": 33,
      "outputs": []
    }
  ]
}